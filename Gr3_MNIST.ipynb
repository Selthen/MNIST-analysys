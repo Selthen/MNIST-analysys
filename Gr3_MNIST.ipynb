{
 "cells": [
  {
   "cell_type": "markdown",
   "metadata": {},
   "source": [
    "# GR 3. - analiza MNIST database"
   ]
  },
  {
   "cell_type": "code",
   "execution_count": 1,
   "metadata": {},
   "outputs": [],
   "source": [
    "# 1. Wprowadzenie i wstępna analiza danych.\n",
    "\n",
    "Format każdego rekordu: \n",
    "    X - dwuwymiarowy numpy array zawierający kolor poszczególnych pikseli w skali szarości\n",
    "    Y - cyfra reprezentowana przez dany rekord\n",
    "    \n",
    "https://en.wikipedia.org/wiki/MNIST_database\n",
    "https://machinelearningmastery.com/how-to-develop-a-convolutional-neural-network-from-scratch-for-mnist-handwritten-digit-classification/\n",
    "https://www.tensorflow.org/datasets/catalog/mnist\n",
    "https://towardsdatascience.com/image-classification-in-10-minutes-with-mnist-dataset-54c35b77a38d\n",
    "    \n",
    "Plan działania: \n",
    "    10.01 - 16.01 - wstępny zarys i weryfikacja zaproponowanych rozwiązań\n",
    "    20.01 - jak najszybciej - ukończenie prac\n"
   ]
  },
  {
   "cell_type": "code",
   "execution_count": null,
   "metadata": {},
   "outputs": [],
   "source": [
    "# 2. Klasyfikatory z zajęć - wybór najlepszego:\n",
    "\n",
    "    Metoda najbliżego sąsiada\n",
    "    Metoda k-najbliższych sąsiadów\n",
    "    Metoda najbliższego prototypu\n",
    "    Naiwny klasyfikatory Bayesa\n",
    "    Drzewa decyzyjne\n",
    "\n",
    "Przerabiamy na ramkę danych?"
   ]
  },
  {
   "cell_type": "code",
   "execution_count": null,
   "metadata": {},
   "outputs": [],
   "source": [
    "# 3. Preprocessing obrazów dla najlepszego klasyfikatora"
   ]
  },
  {
   "cell_type": "code",
   "execution_count": null,
   "metadata": {},
   "outputs": [],
   "source": [
    "# 4. Ponowna weryfikacja klasyfikatorów dla najbardziej obiecujących preprocessingów"
   ]
  },
  {
   "cell_type": "code",
   "execution_count": null,
   "metadata": {},
   "outputs": [],
   "source": [
    "# 5. Próba użycia sieci neuronowych."
   ]
  },
  {
   "cell_type": "code",
   "execution_count": null,
   "metadata": {},
   "outputs": [],
   "source": [
    "# 6. Porównanie rozwiązań i wnioski."
   ]
  },
  {
   "cell_type": "code",
   "execution_count": null,
   "metadata": {},
   "outputs": [],
   "source": [
    "# 7. Próba sklasyfikowania małego zbioru cyfr napisanych przez nas odręcznie"
   ]
  }
 ],
 "metadata": {
  "anaconda-cloud": {},
  "kernelspec": {
   "display_name": "Python 3 (ipykernel)",
   "language": "python",
   "name": "python3"
  },
  "language_info": {
   "codemirror_mode": {
    "name": "ipython",
    "version": 3
   },
   "file_extension": ".py",
   "mimetype": "text/x-python",
   "name": "python",
   "nbconvert_exporter": "python",
   "pygments_lexer": "ipython3",
   "version": "3.10.0"
  }
 },
 "nbformat": 4,
 "nbformat_minor": 4
}
